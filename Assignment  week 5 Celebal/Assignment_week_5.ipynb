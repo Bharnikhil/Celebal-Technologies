{
  "nbformat": 4,
  "nbformat_minor": 0,
  "metadata": {
    "colab": {
      "provenance": []
    },
    "kernelspec": {
      "name": "python3",
      "display_name": "Python 3"
    },
    "language_info": {
      "name": "python"
    }
  },
  "cells": [
    {
      "cell_type": "code",
      "execution_count": 24,
      "metadata": {
        "id": "1Ofh2n6V0cMQ"
      },
      "outputs": [],
      "source": [
        "# 📘 House Prices - Linear Regression with Preprocessing & Submission\n",
        "\n",
        "import pandas as pd\n",
        "import numpy as np\n",
        "import matplotlib.pyplot as plt\n",
        "import seaborn as sns\n",
        "from sklearn.model_selection import train_test_split\n",
        "from sklearn.linear_model import LinearRegression\n",
        "from sklearn.metrics import mean_squared_error\n",
        "from sklearn.preprocessing import LabelEncoder\n",
        "\n"
      ]
    },
    {
      "cell_type": "code",
      "source": [
        "# Load train and test datasets\n",
        "train_df = pd.read_csv(\"train.csv\")\n",
        "test_df = pd.read_csv(\"test.csv\")\n"
      ],
      "metadata": {
        "id": "wBziL79j00y-"
      },
      "execution_count": 25,
      "outputs": []
    },
    {
      "cell_type": "code",
      "source": [
        "# Save SalePrice and Id separately\n",
        "y_train = train_df['SalePrice']\n",
        "train_ID = train_df['Id']\n",
        "test_ID = test_df['Id']\n"
      ],
      "metadata": {
        "id": "l5-dcc9Q0018"
      },
      "execution_count": 26,
      "outputs": []
    },
    {
      "cell_type": "code",
      "source": [
        "# Drop target from train for merging\n",
        "train_features = train_df.drop(['SalePrice'], axis=1)"
      ],
      "metadata": {
        "id": "4gY8CNfF004I"
      },
      "execution_count": 27,
      "outputs": []
    },
    {
      "cell_type": "code",
      "source": [
        "# Combine train and test data for preprocessing\n",
        "total_data = pd.concat([train_features, test_df], axis=0)"
      ],
      "metadata": {
        "id": "e12mO0vF006v"
      },
      "execution_count": 28,
      "outputs": []
    },
    {
      "cell_type": "code",
      "source": [
        "# Fill categorical NA with 'None'\n",
        "for col in ['PoolQC', 'MiscFeature', 'Alley', 'Fence', 'FireplaceQu',\n",
        "            'GarageType', 'GarageFinish', 'GarageQual', 'GarageCond',\n",
        "            'BsmtQual', 'BsmtCond', 'BsmtExposure', 'BsmtFinType1',\n",
        "            'BsmtFinType2', 'MasVnrType']:\n",
        "    total_data[col] = total_data[col].fillna(\"None\")\n"
      ],
      "metadata": {
        "id": "i0d7WRQz00_O"
      },
      "execution_count": 29,
      "outputs": []
    },
    {
      "cell_type": "code",
      "source": [
        "# Fill numerical NA with 0\n",
        "for col in ['GarageYrBlt', 'GarageArea', 'GarageCars',\n",
        "            'BsmtFinSF1', 'BsmtFinSF2', 'BsmtUnfSF', 'TotalBsmtSF',\n",
        "            'BsmtFullBath', 'BsmtHalfBath', 'MasVnrArea']:\n",
        "    total_data[col] = total_data[col].fillna(0)"
      ],
      "metadata": {
        "id": "TY-00fLN01BS"
      },
      "execution_count": 30,
      "outputs": []
    },
    {
      "cell_type": "code",
      "source": [
        "# Fill with mode\n",
        "for col in ['MSZoning', 'Electrical', 'KitchenQual', 'Exterior1st',\n",
        "            'Exterior2nd', 'SaleType']:\n",
        "    total_data[col] = total_data[col].fillna(total_data[col].mode()[0])\n"
      ],
      "metadata": {
        "id": "Qaekbjxz01Dr"
      },
      "execution_count": 31,
      "outputs": []
    },
    {
      "cell_type": "code",
      "source": [
        "# Fill LotFrontage by median of neighborhood\n",
        "total_data['LotFrontage'] = total_data.groupby(\"Neighborhood\")['LotFrontage'].transform(lambda x: x.fillna(x.median()))\n"
      ],
      "metadata": {
        "id": "cQJBB9MT01F8"
      },
      "execution_count": 32,
      "outputs": []
    },
    {
      "cell_type": "code",
      "source": [
        "# Feature Engineering\n",
        "total_data['HouseAge'] = total_data['YrSold'] - total_data['YearBuilt']\n",
        "total_data['RemodAge'] = total_data['YrSold'] - total_data['YearRemodAdd']\n",
        "total_data['GarageAge'] = total_data['YrSold'] - total_data['GarageYrBlt']\n",
        "total_data['TotalSF'] = total_data['TotalBsmtSF'] + total_data['1stFlrSF'] + total_data['2ndFlrSF']\n",
        "total_data['TotalBath'] = (total_data['BsmtFullBath'] + 0.5 * total_data['BsmtHalfBath'] + total_data['FullBath'] + 0.5 * total_data['HalfBath'])\n",
        "total_data['TotalPorchSF'] = (total_data['OpenPorchSF'] + total_data['EnclosedPorch'] + total_data['3SsnPorch'] + total_data['ScreenPorch'])\n",
        "total_data['HasPool'] = total_data['PoolArea'].apply(lambda x: 1 if x > 0 else 0)\n",
        "total_data['HasGarage'] = total_data['GarageArea'].apply(lambda x: 1 if x > 0 else 0)\n",
        "total_data['HasFireplace'] = total_data['Fireplaces'].apply(lambda x: 1 if x > 0 else 0)\n",
        "total_data['HasPorch'] = total_data['TotalPorchSF'].apply(lambda x: 1 if x > 0 else 0)\n"
      ],
      "metadata": {
        "id": "Ev-2dAQR01Kc"
      },
      "execution_count": 33,
      "outputs": []
    },
    {
      "cell_type": "code",
      "source": [
        "# Label Encoding for ordinal features\n",
        "ordinal_cols = ['ExterQual', 'ExterCond', 'BsmtQual', 'BsmtCond', 'HeatingQC', 'KitchenQual', 'FireplaceQu', 'GarageQual', 'GarageCond', 'PoolQC']\n",
        "for col in ordinal_cols:\n",
        "    lbl = LabelEncoder()\n",
        "    total_data[col] = lbl.fit_transform(total_data[col])"
      ],
      "metadata": {
        "id": "oF5wbvBZ01O0"
      },
      "execution_count": 34,
      "outputs": []
    },
    {
      "cell_type": "code",
      "source": [
        "# One-Hot Encoding\n",
        "total_data = pd.get_dummies(total_data)\n"
      ],
      "metadata": {
        "id": "COnPuXDt01RD"
      },
      "execution_count": 35,
      "outputs": []
    },
    {
      "cell_type": "code",
      "source": [
        "# Split back to train/test\n",
        "X_train = total_data[:len(train_df)]\n",
        "X_test = total_data[len(train_df):]"
      ],
      "metadata": {
        "id": "fzLpaP5o01TS"
      },
      "execution_count": 36,
      "outputs": []
    },
    {
      "cell_type": "code",
      "source": [
        "# Train/Validation split\n",
        "X_train_split, X_valid, y_train_split, y_valid = train_test_split(X_train, y_train, test_size=0.2, random_state=42)"
      ],
      "metadata": {
        "id": "-_aPiz6z01VU"
      },
      "execution_count": 17,
      "outputs": []
    },
    {
      "cell_type": "code",
      "source": [
        "# Linear Regression\n",
        "model = LinearRegression()\n",
        "model.fit(X_train_split, y_train_split)\n",
        "y_pred = model.predict(X_valid)\n",
        "rmse = np.sqrt(mean_squared_error(y_valid, y_pred))\n",
        "print(\"Validation RMSE:\", rmse)"
      ],
      "metadata": {
        "colab": {
          "base_uri": "https://localhost:8080/"
        },
        "id": "ZIlNppGs01YR",
        "outputId": "bd5f977f-a9d7-4ca2-ebb7-17cfe2687974"
      },
      "execution_count": 37,
      "outputs": [
        {
          "output_type": "stream",
          "name": "stdout",
          "text": [
            "Validation RMSE: 64511.15205144974\n"
          ]
        }
      ]
    },
    {
      "cell_type": "code",
      "source": [
        "# Train on full train data and predict test\n",
        "model.fit(X_train, y_train)\n",
        "test_predictions = model.predict(X_test)\n",
        "\n",
        "# Submission File\n",
        "submission = pd.DataFrame({\n",
        "    'Id': test_ID,\n",
        "    'SalePrice': test_predictions\n",
        "})\n",
        "submission.to_csv(\"submission.csv\", index=False)\n",
        "print(\"submission.csv saved ✅\")\n"
      ],
      "metadata": {
        "colab": {
          "base_uri": "https://localhost:8080/"
        },
        "id": "HJRJ87IN2jWK",
        "outputId": "4f47a144-5cd2-4a0d-d3cf-31331a1012e9"
      },
      "execution_count": 38,
      "outputs": [
        {
          "output_type": "stream",
          "name": "stdout",
          "text": [
            "submission.csv saved ✅\n"
          ]
        }
      ]
    },
    {
      "cell_type": "code",
      "source": [],
      "metadata": {
        "id": "St2bUqlP2rL_"
      },
      "execution_count": 21,
      "outputs": []
    }
  ]
}